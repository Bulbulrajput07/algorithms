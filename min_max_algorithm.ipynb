{
  "nbformat": 4,
  "nbformat_minor": 0,
  "metadata": {
    "colab": {
      "provenance": [],
      "authorship_tag": "ABX9TyMt0gPgiPFvdL1G+cmDNFxP",
      "include_colab_link": true
    },
    "kernelspec": {
      "name": "python3",
      "display_name": "Python 3"
    },
    "language_info": {
      "name": "python"
    }
  },
  "cells": [
    {
      "cell_type": "markdown",
      "metadata": {
        "id": "view-in-github",
        "colab_type": "text"
      },
      "source": [
        "<a href=\"https://colab.research.google.com/github/Bulbulrajput07/algorithms/blob/main/min_max_algorithm.ipynb\" target=\"_parent\"><img src=\"https://colab.research.google.com/assets/colab-badge.svg\" alt=\"Open In Colab\"/></a>"
      ]
    },
    {
      "cell_type": "code",
      "source": [
        "def min_max(depth, node_index, is_maximizing_player, values, max_depth):\n",
        "    # Base case: leaf node is reached\n",
        "    if depth == max_depth:\n",
        "        return values[node_index]\n",
        "\n",
        "    if is_maximizing_player:\n",
        "        return max(\n",
        "            min_max(depth + 1, node_index * 2, False, values, max_depth),\n",
        "            min_max(depth + 1, node_index * 2 + 1, False, values, max_depth)\n",
        "        )\n",
        "    else:\n",
        "        return min(\n",
        "            min_max(depth + 1, node_index * 2, True, values, max_depth),\n",
        "            min_max(depth + 1, node_index * 2 + 1, True, values, max_depth)\n",
        "        )\n",
        "\n",
        "# Compile-time given leaf node values (game outcomes)\n",
        "values = [3, 5, 6, 9, 1, 2, 0, -1]   # Leaf nodes of the game tree\n",
        "\n",
        "# Tree depth (log2 of number of leaf nodes)\n",
        "max_depth = 3   # Because 2^3 = 8 leaf nodes\n",
        "\n",
        "# Start Min-Max evaluation from root node (index 0) and maximizing player\n",
        "optimal_value = min_max(0, 0, True, values, max_depth)\n",
        "print(\"The optimal value is:\", optimal_value)"
      ],
      "metadata": {
        "colab": {
          "base_uri": "https://localhost:8080/"
        },
        "id": "Ui16u1BG6XMI",
        "outputId": "3f92c3e6-ab47-47d6-8b53-de690fe8ef21"
      },
      "execution_count": 4,
      "outputs": [
        {
          "output_type": "stream",
          "name": "stdout",
          "text": [
            "The optimal value is: 5\n"
          ]
        }
      ]
    }
  ]
}
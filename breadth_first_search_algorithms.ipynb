{
  "nbformat": 4,
  "nbformat_minor": 0,
  "metadata": {
    "colab": {
      "provenance": [],
      "authorship_tag": "ABX9TyPKHrulHOWoMl8/S3xRL9kf",
      "include_colab_link": true
    },
    "kernelspec": {
      "name": "python3",
      "display_name": "Python 3"
    },
    "language_info": {
      "name": "python"
    }
  },
  "cells": [
    {
      "cell_type": "markdown",
      "metadata": {
        "id": "view-in-github",
        "colab_type": "text"
      },
      "source": [
        "<a href=\"https://colab.research.google.com/github/Bulbulrajput07/algorithms/blob/main/breadth_first_search_algorithms.ipynb\" target=\"_parent\"><img src=\"https://colab.research.google.com/assets/colab-badge.svg\" alt=\"Open In Colab\"/></a>"
      ]
    },
    {
      "cell_type": "code",
      "execution_count": 9,
      "metadata": {
        "id": "0o0W8w-eq6AA"
      },
      "outputs": [],
      "source": [
        "graph ={\n",
        "    '5':['3','7'],\n",
        "    '3':['2','4'],\n",
        "    '7':['8'],\n",
        "    '10':['11'],\n",
        "    '11':['12'],}"
      ]
    },
    {
      "cell_type": "code",
      "source": [
        "visited=[]\n",
        "queue=[]\n"
      ],
      "metadata": {
        "id": "BsFIGqRKrCsQ"
      },
      "execution_count": 10,
      "outputs": []
    },
    {
      "cell_type": "code",
      "source": [
        "def bfs(visited,graph,node):\n",
        "    visited.append(node)\n",
        "    queue.append(node)\n",
        "    while queue:\n",
        "        m=queue.pop(0)\n",
        "        print(m,end=\"\")\n",
        "        for neighbour in graph.get(m,[]):\n",
        "            if neighbour not in visited:\n",
        "                visited.append(neighbour)\n",
        "                queue.append(neighbour)"
      ],
      "metadata": {
        "id": "Cku1MIT9rIdq"
      },
      "execution_count": 11,
      "outputs": []
    },
    {
      "cell_type": "code",
      "source": [
        "print(\"Breadth first search result\")\n",
        "bfs(visited,graph,'5')"
      ],
      "metadata": {
        "colab": {
          "base_uri": "https://localhost:8080/"
        },
        "id": "sxrWNX13re8a",
        "outputId": "90d72647-9f2d-40bb-cdc6-53c5af789766"
      },
      "execution_count": 12,
      "outputs": [
        {
          "output_type": "stream",
          "name": "stdout",
          "text": [
            "Breadth first search result\n",
            "537248"
          ]
        }
      ]
    }
  ]
}
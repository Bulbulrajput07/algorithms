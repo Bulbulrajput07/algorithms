{
  "nbformat": 4,
  "nbformat_minor": 0,
  "metadata": {
    "colab": {
      "provenance": [],
      "authorship_tag": "ABX9TyNh+LY3uVNNra+HkfjfzxIb",
      "include_colab_link": true
    },
    "kernelspec": {
      "name": "python3",
      "display_name": "Python 3"
    },
    "language_info": {
      "name": "python"
    }
  },
  "cells": [
    {
      "cell_type": "markdown",
      "metadata": {
        "id": "view-in-github",
        "colab_type": "text"
      },
      "source": [
        "<a href=\"https://colab.research.google.com/github/Bulbulrajput07/algorithms/blob/main/depth_search_algorithm.ipynb\" target=\"_parent\"><img src=\"https://colab.research.google.com/assets/colab-badge.svg\" alt=\"Open In Colab\"/></a>"
      ]
    },
    {
      "cell_type": "code",
      "execution_count": null,
      "metadata": {
        "id": "m-48X8PLWspo"
      },
      "outputs": [],
      "source": [
        "graph = {'5':['3','7'],\n",
        "         '3':['2','4'],\n",
        "         '7':['8'],\n",
        "         '2':[],\n",
        "         '4':['8'],\n",
        "         '8':[]\n",
        "         }"
      ]
    },
    {
      "cell_type": "code",
      "source": [
        "# set to keep track of visied nodes\n",
        "visited = set()"
      ],
      "metadata": {
        "id": "crcCPpydXg8n"
      },
      "execution_count": null,
      "outputs": []
    },
    {
      "cell_type": "code",
      "source": [
        "# DFS function\n",
        "def dfs(visited,graph,node):\n",
        "  if node not in visited:\n",
        "    print(node)\n",
        "    visited.add(node)\n",
        "    for neighbour in graph[node]:\n",
        "      dfs(visited,graph,neighbour)\n"
      ],
      "metadata": {
        "id": "s90CVp7PYM69"
      },
      "execution_count": null,
      "outputs": []
    },
    {
      "cell_type": "code",
      "source": [
        "#Print the message outside the function\n",
        "print(\"Following is the Depth-first search:\")"
      ],
      "metadata": {
        "colab": {
          "base_uri": "https://localhost:8080/"
        },
        "id": "SG4Y9BkzfidL",
        "outputId": "59eb1dca-2cb1-484f-fb23-a4b7f6b1cc46"
      },
      "execution_count": null,
      "outputs": [
        {
          "output_type": "stream",
          "name": "stdout",
          "text": [
            "Following is the Depth-first search:\n"
          ]
        }
      ]
    },
    {
      "cell_type": "code",
      "source": [
        "# Call DFS\n",
        "dfs(visited,graph,'5')"
      ],
      "metadata": {
        "colab": {
          "base_uri": "https://localhost:8080/"
        },
        "id": "enFhOuLXf1jN",
        "outputId": "81f4bfa1-7672-4d1b-b8c1-5399bc276fbc"
      },
      "execution_count": null,
      "outputs": [
        {
          "output_type": "stream",
          "name": "stdout",
          "text": [
            "5\n",
            "3\n",
            "2\n",
            "4\n",
            "8\n",
            "7\n"
          ]
        }
      ]
    }
  ]
}
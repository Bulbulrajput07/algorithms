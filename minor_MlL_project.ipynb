{
  "nbformat": 4,
  "nbformat_minor": 0,
  "metadata": {
    "colab": {
      "provenance": [],
      "authorship_tag": "ABX9TyMuwhxCzijAnBm8OKPZm9La",
      "include_colab_link": true
    },
    "kernelspec": {
      "name": "python3",
      "display_name": "Python 3"
    },
    "language_info": {
      "name": "python"
    }
  },
  "cells": [
    {
      "cell_type": "markdown",
      "metadata": {
        "id": "view-in-github",
        "colab_type": "text"
      },
      "source": [
        "<a href=\"https://colab.research.google.com/github/Bulbulrajput07/algorithms/blob/main/minor_MlL_project.ipynb\" target=\"_parent\"><img src=\"https://colab.research.google.com/assets/colab-badge.svg\" alt=\"Open In Colab\"/></a>"
      ]
    },
    {
      "cell_type": "code",
      "source": [
        "# Import libraries\n",
        "from sklearn.datasets import load_iris\n",
        "from sklearn.model_selection import train_test_split\n",
        "from sklearn.neighbors import KNeighborsClassifier\n",
        "from sklearn.metrics import accuracy_score\n",
        "from colorama import Fore, Style, init\n",
        "\n",
        "# Initialize colorama\n",
        "init(autoreset=True)\n",
        "\n",
        "# Load dataset\n",
        "iris = load_iris()\n",
        "X = iris.data\n",
        "y = iris.target\n",
        "\n",
        "# Split data\n",
        "X_train, X_test, y_train, y_test = train_test_split(\n",
        "    X, y, test_size=0.3, random_state=0\n",
        ")\n",
        "\n",
        "# Train model\n",
        "model = KNeighborsClassifier(n_neighbors=3)\n",
        "model.fit(X_train, y_train)\n",
        "\n",
        "# Predict\n",
        "y_pred = model.predict(X_test)\n",
        "\n",
        "# Compute accuracy\n",
        "accuracy = accuracy_score(y_test, y_pred)\n",
        "\n",
        "# Choose color based on accuracy\n",
        "if accuracy >= 0.9:\n",
        "    acc_color = Fore.GREEN\n",
        "elif accuracy >= 0.7:\n",
        "    acc_color = Fore.YELLOW\n",
        "else:\n",
        "    acc_color = Fore.RED\n",
        "\n",
        "# Print report header\n",
        "print(Fore.CYAN + \"=\" * 55)\n",
        "print(Fore.MAGENTA + \"        🌸 K-Nearest Neighbors Classifier Report 🌸\")\n",
        "print(Fore.CYAN + \"=\" * 55 + Style.RESET_ALL)\n",
        "\n",
        "# Print accuracy section\n",
        "print(f\"{Fore.WHITE}Model Accuracy : {acc_color}{accuracy:.4f}{Style.RESET_ALL}\")\n",
        "print(Fore.CYAN + \"-\" * 55)\n",
        "\n",
        "# Print formatted predictions\n",
        "print(f\"{Fore.BLUE}{'Index':<8}{'Predicted':<15}{'Actual':<15}{'Result':<10}{Style.RESET_ALL}\")\n",
        "print(Fore.CYAN + \"-\" * 55)\n",
        "\n",
        "for i in range(10):  # show first 10 predictions\n",
        "    pred = iris.target_names[y_pred[i]]\n",
        "    actual = iris.target_names[y_test[i]]\n",
        "\n",
        "    # Color-code correctness\n",
        "    if pred == actual:\n",
        "        result = Fore.GREEN + \"✓ Correct\"\n",
        "    else:\n",
        "        result = Fore.RED + \"✗ Wrong\"\n",
        "\n",
        "    print(f\"{Fore.YELLOW}{i:<8}{Fore.MAGENTA}{pred:<15}{Fore.CYAN}{actual:<15}{result}{Style.RESET_ALL}\")\n",
        "\n",
        "print(Fore.CYAN + \"-\" * 55)\n",
        "print(Fore.LIGHTBLACK_EX + \"End of report\\n\")\n"
      ],
      "metadata": {
        "colab": {
          "base_uri": "https://localhost:8080/"
        },
        "id": "z2wXX188JeDK",
        "outputId": "b00c48f1-f6c7-4db0-827c-433a37d44a6d"
      },
      "execution_count": 23,
      "outputs": [
        {
          "output_type": "stream",
          "name": "stdout",
          "text": [
            "=======================================================\n",
            "        🌸 K-Nearest Neighbors Classifier Report 🌸\n",
            "=======================================================\n",
            "Model Accuracy : 0.9778\n",
            "-------------------------------------------------------\n",
            "Index   Predicted      Actual         Result    \n",
            "-------------------------------------------------------\n",
            "0       virginica      virginica      ✓ Correct\n",
            "1       versicolor     versicolor     ✓ Correct\n",
            "2       setosa         setosa         ✓ Correct\n",
            "3       virginica      virginica      ✓ Correct\n",
            "4       setosa         setosa         ✓ Correct\n",
            "5       virginica      virginica      ✓ Correct\n",
            "6       setosa         setosa         ✓ Correct\n",
            "7       versicolor     versicolor     ✓ Correct\n",
            "8       versicolor     versicolor     ✓ Correct\n",
            "9       versicolor     versicolor     ✓ Correct\n",
            "-------------------------------------------------------\n",
            "End of report\n",
            "\n"
          ]
        }
      ]
    }
  ]
}